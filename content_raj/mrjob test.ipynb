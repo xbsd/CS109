{
 "metadata": {
  "name": "",
  "signature": "sha256:d86e55c1190623bc884e703414d2fe95744cd2d17d8c6236d7806d46511c4122"
 },
 "nbformat": 3,
 "nbformat_minor": 0,
 "worksheets": [
  {
   "cells": [
    {
     "cell_type": "code",
     "collapsed": false,
     "input": [
      "def firstn(n):\n",
      "    num = 0\n",
      "    while num < n:\n",
      "        yield num\n",
      "        num += 1\n",
      "thesum = sum(firstn(100000))\n",
      "thesum"
     ],
     "language": "python",
     "metadata": {},
     "outputs": [
      {
       "metadata": {},
       "output_type": "pyout",
       "prompt_number": 6,
       "text": [
        "4999950000"
       ]
      }
     ],
     "prompt_number": 6
    },
    {
     "cell_type": "code",
     "collapsed": false,
     "input": [],
     "language": "python",
     "metadata": {},
     "outputs": []
    }
   ],
   "metadata": {}
  }
 ]
}