{
 "metadata": {
  "name": "",
  "signature": "sha256:42361c881e17340759977fd5ee89f03f5960cd7348681bc383b087fc55e52de5"
 },
 "nbformat": 3,
 "nbformat_minor": 0,
 "worksheets": []
}