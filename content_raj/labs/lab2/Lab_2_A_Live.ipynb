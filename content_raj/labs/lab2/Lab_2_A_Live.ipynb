{
 "metadata": {
  "name": "",
  "signature": "sha256:e455ac009bcaabdf26e6990b31af147a63e48e816fa821affffcda73fca8e757"
 },
 "nbformat": 3,
 "nbformat_minor": 0,
 "worksheets": [
  {
   "cells": [
    {
     "cell_type": "code",
     "collapsed": false,
     "input": [
      "import cs109style\n",
      "cs109style.customize_mpl()\n",
      "cs109style.customize_css()\n",
      "\n",
      "# special IPython command to prepare the notebook for matplotlib\n",
      "%matplotlib inline \n",
      "\n",
      "from collections import defaultdict\n",
      "\n",
      "import pandas as pd\n",
      "import matplotlib.pyplot as plt\n",
      "import requests\n",
      "from pattern import web\n",
      "\n"
     ],
     "language": "python",
     "metadata": {},
     "outputs": [
      {
       "output_type": "stream",
       "stream": "stdout",
       "text": [
        "Setting custom matplotlib visual style\n",
        "Setting custom CSS for the IPython Notebook\n"
       ]
      }
     ],
     "prompt_number": 1
    },
    {
     "cell_type": "markdown",
     "metadata": {},
     "source": [
      "## Fetching population data from Wikipedia\n",
      "\n",
      "In this example we will fetch data about countries and their population from Wikipedia.\n",
      "\n",
      "http://en.wikipedia.org/wiki/List_of_countries_by_past_and_future_population has several tables for individual countries, subcontinents as well as different years. We will combine the data for all countries and all years in a single panda dataframe and visualize the change in population for different countries.\n",
      "\n",
      "###We will go through the following steps:\n",
      "* fetching html with embedded data\n",
      "* parsing html to extract the data\n",
      "* collecting the data in a panda dataframe\n",
      "* displaying the data\n",
      "\n",
      "To give you some starting points for your homework, we will also show the different sub-steps that can be taken to reach the presented solution."
     ]
    },
    {
     "cell_type": "markdown",
     "metadata": {},
     "source": [
      "## Fetching the Wikipedia site"
     ]
    },
    {
     "cell_type": "code",
     "collapsed": false,
     "input": [
      "url = 'http://en.wikipedia.org/wiki/List_of_countries_by_past_and_future_population'\n",
      "website_html = requests.get(url).text\n",
      "#print website_html"
     ],
     "language": "python",
     "metadata": {},
     "outputs": [],
     "prompt_number": 2
    },
    {
     "cell_type": "markdown",
     "metadata": {},
     "source": [
      "## Parsing html data"
     ]
    },
    {
     "cell_type": "code",
     "collapsed": false,
     "input": [
      "def get_population_html_tables(html):\n",
      "    \"\"\"Parse html and return html tables of wikipedia population data.\"\"\"\n",
      "\n",
      "    dom = web.Element(html)\n",
      "\n",
      "    ### 0. step: look at html source!\n",
      "    #### 1. step: get all tables\n",
      "    #tbls = dom('table') # <-- This gets us all the tables\n",
      "    # Only get the tables we need\n",
      "    # But we need only the tables with class \"sortable wikitable\"\n",
      "    tbls = dom.by_class('sortable wikitable')\n",
      "    #### 2. step: get all tables we care about\n",
      "\n",
      "    return tbls\n",
      "\n",
      "tables = get_population_html_tables(website_html)\n",
      "print \"table length: %d\" %len(tables)\n",
      "for t in tables:\n",
      "    print t.attributes\n"
     ],
     "language": "python",
     "metadata": {},
     "outputs": [
      {
       "output_type": "stream",
       "stream": "stdout",
       "text": [
        "table length: 6\n",
        "{u'style': u'text-align: right', u'class': u'sortable wikitable'}\n",
        "{u'style': u'text-align: right', u'class': u'sortable wikitable'}\n",
        "{u'style': u'text-align: right', u'class': u'sortable wikitable'}\n",
        "{u'style': u'text-align: right', u'class': u'sortable wikitable'}\n",
        "{u'style': u'text-align: right', u'class': u'sortable wikitable'}\n",
        "{u'style': u'text-align: right', u'class': u'sortable wikitable'}\n"
       ]
      }
     ],
     "prompt_number": 3
    },
    {
     "cell_type": "code",
     "collapsed": false,
     "input": [
      "def table_type(tbl):\n",
      "    ### Extract the table type\n",
      "    return tbl('th')[0].content  # The second header type and content (what we need)\n",
      "    #for th in tbl('th'):\n",
      "        #print th.content\n",
      "    #return 'table'\n",
      "\n",
      "    \n",
      "# Method 1\n",
      "# group the tables by type\n",
      "#table_by_type = {}\n",
      "#for tbl in tables:\n",
      "#    typ = table_type(tbl)\n",
      "#    if typ not in table_by_type:\n",
      "#        table_by_type[typ] = list()\n",
      "#    tables_by_type[typ].append(tbl)\n",
      "\n",
      "    \n",
      "# Method 2\n",
      "# Equivalent code below\n",
      "\n",
      "# tables_by_type = defaultdict(list) # To group in lists in dictionaries\n",
      "# defaultdicts have a default value that is inserted when a new key is accessed\n",
      "# So, in the loop below, if it has not encountered the table type\n",
      "# It inserts an empty list\n",
      "# This is why the \"defaultdict\" is used !\n",
      "\n",
      "# group the tables by type\n",
      "tables_by_type = defaultdict(list)  \n",
      "# defaultdicts have a default value that is inserted when a new key is accessed\n",
      "for tbl in tables:\n",
      "    tables_by_type[table_type(tbl)].append(tbl)\n",
      "\n",
      "    # Shows country or territory has 3 tables\n",
      "print tables_by_type"
     ],
     "language": "python",
     "metadata": {},
     "outputs": [
      {
       "output_type": "stream",
       "stream": "stdout",
       "text": [
        "defaultdict(<type 'list'>, {u'Country or territory': [Element(tag=u'table'), Element(tag=u'table'), Element(tag=u'table')], u'(Sub)continent': [Element(tag=u'table'), Element(tag=u'table'), Element(tag=u'table')]})\n"
       ]
      }
     ],
     "prompt_number": 4
    },
    {
     "cell_type": "markdown",
     "metadata": {},
     "source": [
      "## Extracting data and filling it into a dictionary"
     ]
    },
    {
     "cell_type": "code",
     "collapsed": false,
     "input": [
      "def get_countries_population(tables):\n",
      "    \"\"\"Extract population data for countries from all tables and store it in dictionary.\"\"\"\n",
      "    \n",
      "    result = defaultdict(dict)\n",
      "\n",
      "    for tbl in tables:\n",
      "        # 1. step: try to extract data for a single table\n",
      "        tbl = tables[0]\n",
      "        # From the fist table (tbl) get the headers\n",
      "        # I just need the rownames, and the years columns\n",
      "        # From the Wikipedia URL\n",
      "        # I do not need the % growth columns\n",
      "        headers = tbl('tr')\n",
      "        first_header = headers[0]\n",
      "        th_s = first_header('th')\n",
      "        # Extracting the columns that has years only\n",
      "        years = [int(val.content) for val in th_s if val.content.isnumeric()]\n",
      "        # Enumerate produces a pair - the index and the value\n",
      "        # Enumerate can be applied to lists, and other iterable objects\n",
      "        year_indices = [idx for idx, val in enumerate(th_s) if val.content.isnumeric()]\n",
      "        #table_headers = tbl('tr')[0]('th')\n",
      "        print years\n",
      "        print year_indices\n",
      "        #years = [int(th.content)]\n",
      "        # 2. step: iterate over all tables, extract headings and actual data and combine data into single dict\n",
      "        rows = tbl('tr')[1:]\n",
      "        for row in rows:\n",
      "            tds = row('td')\n",
      "            country_name = tds[0]('a')[0].content\n",
      "            population_by_year = [int(tds[colidx].content.replace(',','')) for \n",
      "                                  colidx in year_indices]\n",
      "            # zip creates a sequences of tuples\n",
      "            subdict = dict(zip(years, population_by_year))\n",
      "            result[country_name].update(subdict)\n",
      "    return result\n",
      "\n",
      "\n",
      "result = get_countries_population(tables_by_type['Country or territory'])\n",
      "print len(result)\n",
      "print result[u'Canada']"
     ],
     "language": "python",
     "metadata": {},
     "outputs": [
      {
       "output_type": "stream",
       "stream": "stdout",
       "text": [
        "[1950, 1955, 1960, 1965, 1970, 1975, 1980]\n",
        "[1, 2, 4, 6, 8, 10, 12]\n",
        "[1950, 1955, 1960, 1965, 1970, 1975, 1980]"
       ]
      },
      {
       "output_type": "stream",
       "stream": "stdout",
       "text": [
        "\n",
        "[1, 2, 4, 6, 8, 10, 12]\n",
        "[1950, 1955, 1960, 1965, 1970, 1975, 1980]"
       ]
      },
      {
       "output_type": "stream",
       "stream": "stdout",
       "text": [
        "\n",
        "[1, 2, 4, 6, 8, 10, 12]\n",
        "227"
       ]
      },
      {
       "output_type": "stream",
       "stream": "stdout",
       "text": [
        "\n",
        "{1955: 16050, 1960: 18267, 1965: 20071, 1970: 21750, 1975: 23209, 1980: 24593, 1950: 14011}\n"
       ]
      }
     ],
     "prompt_number": 17
    },
    {
     "cell_type": "code",
     "collapsed": false,
     "input": [
      "# When you get an error\n",
      "# You can just insert a cell below the traceback with %debug\n",
      "# And it will take you to the debugger\n",
      "#%debug"
     ],
     "language": "python",
     "metadata": {},
     "outputs": []
    },
    {
     "cell_type": "markdown",
     "metadata": {},
     "source": [
      "## Creating a dataframe from a dictionary"
     ]
    },
    {
     "cell_type": "code",
     "collapsed": false,
     "input": [
      "# create dataframe\n",
      "\n",
      "df = pd.DataFrame.from_dict(result, orient='index')\n",
      "# sort based on year\n",
      "df.sort(axis=1,inplace=True)\n",
      "print df\n"
     ],
     "language": "python",
     "metadata": {},
     "outputs": [
      {
       "output_type": "stream",
       "stream": "stdout",
       "text": [
        "<class 'pandas.core.frame.DataFrame'>\n",
        "Index: 227 entries, Afghanistan to Zimbabwe\n",
        "Data columns (total 7 columns):\n",
        "1950    227  non-null values\n",
        "1955    227  non-null values\n",
        "1960    227  non-null values\n",
        "1965    227  non-null values\n",
        "1970    227  non-null values\n",
        "1975    227  non-null values\n",
        "1980    227  non-null values\n",
        "dtypes: int64(7)\n"
       ]
      }
     ],
     "prompt_number": 20
    },
    {
     "cell_type": "markdown",
     "metadata": {},
     "source": [
      "## Some data accessing functions for a panda dataframe"
     ]
    },
    {
     "cell_type": "code",
     "collapsed": false,
     "input": [
      "subtable = df.iloc[0:2, 0:2]\n",
      "print \"subtable\"\n",
      "print subtable\n",
      "print \"\"\n",
      "\n",
      "column = df[1955]\n",
      "print \"column\"\n",
      "print column\n",
      "print \"\"\n",
      "\n",
      "row = df.ix[0] #row 0\n",
      "print \"row\"\n",
      "print row\n",
      "print \"\"\n",
      "\n",
      "rows = df.ix[:2] #rows 0,1\n",
      "print \"rows\"\n",
      "print rows\n",
      "print \"\"\n",
      "\n",
      "element = df.ix[0,1955] #element\n",
      "print \"element\"\n",
      "print element\n",
      "print \"\"\n",
      "\n",
      "# max along column\n",
      "print \"max\"\n",
      "print df[1950].max()\n",
      "print \"\"\n",
      "\n",
      "# axes\n",
      "print \"axes\"\n",
      "print df.axes\n",
      "print \"\"\n",
      "\n",
      "row = df.ix[0]\n",
      "print \"row info\"\n",
      "print row.name\n",
      "print row.index\n",
      "print \"\"\n",
      "\n",
      "countries =  df.index\n",
      "print \"countries\"\n",
      "print countries\n",
      "print \"\"\n",
      "\n",
      "print \"Austria\"\n",
      "print df.ix['Austria']"
     ],
     "language": "python",
     "metadata": {},
     "outputs": [
      {
       "output_type": "stream",
       "stream": "stdout",
       "text": [
        "subtable\n",
        "             1950  1955\n",
        "Afghanistan  8150  8891\n",
        "Albania      1227  1392\n",
        "\n",
        "column\n",
        "Afghanistan             8891\n",
        "Albania                 1392\n",
        "Algeria                 9842\n",
        "American Samoa            20\n",
        "Andorra                    6\n",
        "Angola                  4423\n",
        "Anguilla                   5\n",
        "Antigua and Barbuda       51\n",
        "Argentina              18928\n",
        "Armenia                 1565\n",
        "Aruba                     54\n",
        "Australia               9277\n",
        "Austria                 6947\n",
        "Azerbaijan              3314\n",
        "Bahamas                   87\n",
        "...\n",
        "United Arab Emirates                83\n",
        "United Kingdom                   50946\n",
        "United States                   165069\n",
        "United States Virgin Islands        28\n",
        "Uruguay                           2353\n",
        "Uzbekistan                        7232\n",
        "Vanuatu                             59\n",
        "Venezuela                         6170\n",
        "Vietnam                          27738\n",
        "Wallis and Futuna                    7\n",
        "West Bank                          788\n",
        "Western Sahara                      16\n",
        "Yemen                             5265\n",
        "Zambia                            2869\n",
        "Zimbabwe                          3409\n",
        "Name: 1955, Length: 227, dtype: int64\n",
        "\n",
        "row\n",
        "1950     8150\n",
        "1955     8891\n",
        "1960     9829\n",
        "1965    10998\n",
        "1970    12431\n",
        "1975    14132\n",
        "1980    15044\n",
        "Name: Afghanistan, dtype: int64\n",
        "\n",
        "rows\n",
        "             1950  1955  1960   1965   1970   1975   1980\n",
        "Afghanistan  8150  8891  9829  10998  12431  14132  15044\n",
        "Albania      1227  1392  1623   1884   2157   2401   2671\n",
        "\n",
        "element\n",
        "8891\n",
        "\n",
        "max\n",
        "562580\n",
        "\n",
        "axes\n",
        "[Index([u'Afghanistan', u'Albania', u'Algeria', u'American Samoa', u'Andorra', u'Angola', u'Anguilla', u'Antigua and Barbuda', u'Argentina', u'Armenia', u'Aruba', u'Australia', u'Austria', u'Azerbaijan', u'Bahamas', u'Bahrain', u'Bangladesh', u'Barbados', u'Belarus', u'Belgium', u'Belize', u'Benin', u'Bermuda', u'Bhutan', u'Bolivia', u'Bosnia and Herzegovina', u'Botswana', u'Brazil', u'British Virgin Islands', u'Brunei', u'Bulgaria', u'Burkina Faso', u'Burma', u'Burundi', u'Cambodia', u'Cameroon', u'Canada', u'Cape Verde', u'Cayman Islands', u'Central African Republic', u'Chad', u'Chile', u'China', u'Colombia', u'Comoros', u'Congo (Brazzaville)', u'Congo (Kinshasa)', u'Cook Islands', u'Costa Rica', u'Croatia', u'Cuba', u'Cura\u00e7ao', u'Cyprus', u'Czech Republic', u'Denmark', u'Djibouti', u'Dominica', u'Dominican Republic', u'Ecuador', u'Egypt', u'El Salvador', u'Equatorial Guinea', u'Eritrea', u'Estonia', u'Ethiopia', u'Faroe Islands', u'Federated States of Micronesia', u'Fiji', u'Finland', u'France', u'French Polynesia', u'Gabon', u'Gambia', u'Gaza Strip', u'Georgia', u'Germany', u'Ghana', u'Gibraltar', u'Greece', u'Greenland', u'Grenada', u'Guam', u'Guatemala', u'Guernsey', u'Guinea', u'Guinea-Bissau', u'Guyana', u'Haiti', u'Honduras', u'Hong Kong', u'Hungary', u'Iceland', u'India', u'Indonesia', u'Iran', u'Iraq', u'Ireland', u'Isle of Man', u'Israel', u'Italy', u'Ivory Coast', u'Jamaica', u'Japan', u'Jersey', u'Jordan', u'Kazakhstan', u'Kenya', u'Kiribati', u'Kuwait', u'Kyrgyzstan', u'Laos', u'Latvia', u'Lebanon', u'Lesotho', u'Liberia', u'Libya', u'Liechtenstein', u'Lithuania', u'Luxembourg', u'Macau', u'Macedonia', u'Madagascar', u'Malawi', u'Malaysia', u'Maldives', u'Mali', u'Malta', u'Marshall Islands', u'Mauritania', u'Mauritius', u'Mayotte', u'Mexico', u'Moldova', u'Monaco', u'Mongolia', u'Montenegro', u'Montserrat', u'Morocco', u'Mozambique', u'Namibia', u'Nauru', u'Nepal', u'Netherlands', u'New Caledonia', u'New Zealand', u'Nicaragua', u'Niger', u'Nigeria', u'North Korea', u'Northern Mariana Islands', u'Norway', u'Oman', u'Pakistan', u'Palau', u'Panama', u'Papua New Guinea', u'Paraguay', u'Peru', u'Philippines', u'Poland', u'Portugal', u'Puerto Rico', u'Qatar', u'Romania', u'Russia', u'Rwanda', u'Saint Barth\u00e9lemy', u'Saint Helena, Ascension and Tristan da Cunha', u'Saint Kitts and Nevis', u'Saint Lucia', u'Saint Martin', u'Saint Pierre and Miquelon', u'Saint Vincent and the Grenadines', u'Samoa', u'San Marino', u'Saudi Arabia', u'Senegal', u'Serbia', u'Seychelles', u'Sierra Leone', u'Singapore', u'Sint Maarten', u'Slovakia', u'Slovenia', u'Solomon Islands', u'Somalia', u'South Africa', u'South Korea', u'Spain', u'Sri Lanka', u'Sudan', u'Suriname', u'Swaziland', u'Sweden', u'Switzerland', u'Syria', u'S\u00e3o Tom\u00e9 and Pr\u00edncipe', u'Taiwan', u'Tajikistan', u'Tanzania', u'Thailand', u'Timor-Leste', u'Togo', u'Tonga', u'Trinidad and Tobago', u'Tunisia', u'Turkey', u'Turkmenistan', u'Turks and Caicos Islands', u'Tuvalu', u'Uganda', u'Ukraine', u'United Arab Emirates', u'United Kingdom', u'United States', u'United States Virgin Islands', u'Uruguay', u'Uzbekistan', u'Vanuatu', u'Venezuela', u'Vietnam', u'Wallis and Futuna', u'West Bank', u'Western Sahara', u'Yemen', u'Zambia', u'Zimbabwe'], dtype=object), Int64Index([1950, 1955, 1960, 1965, 1970, 1975, 1980], dtype=int64)]\n",
        "\n",
        "row info\n",
        "Afghanistan\n",
        "Int64Index([1950, 1955, 1960, 1965, 1970, 1975, 1980], dtype=int64)\n",
        "\n",
        "countries\n",
        "Index([u'Afghanistan', u'Albania', u'Algeria', u'American Samoa', u'Andorra', u'Angola', u'Anguilla', u'Antigua and Barbuda', u'Argentina', u'Armenia', u'Aruba', u'Australia', u'Austria', u'Azerbaijan', u'Bahamas', u'Bahrain', u'Bangladesh', u'Barbados', u'Belarus', u'Belgium', u'Belize', u'Benin', u'Bermuda', u'Bhutan', u'Bolivia', u'Bosnia and Herzegovina', u'Botswana', u'Brazil', u'British Virgin Islands', u'Brunei', u'Bulgaria', u'Burkina Faso', u'Burma', u'Burundi', u'Cambodia', u'Cameroon', u'Canada', u'Cape Verde', u'Cayman Islands', u'Central African Republic', u'Chad', u'Chile', u'China', u'Colombia', u'Comoros', u'Congo (Brazzaville)', u'Congo (Kinshasa)', u'Cook Islands', u'Costa Rica', u'Croatia', u'Cuba', u'Cura\u00e7ao', u'Cyprus', u'Czech Republic', u'Denmark', u'Djibouti', u'Dominica', u'Dominican Republic', u'Ecuador', u'Egypt', u'El Salvador', u'Equatorial Guinea', u'Eritrea', u'Estonia', u'Ethiopia', u'Faroe Islands', u'Federated States of Micronesia', u'Fiji', u'Finland', u'France', u'French Polynesia', u'Gabon', u'Gambia', u'Gaza Strip', u'Georgia', u'Germany', u'Ghana', u'Gibraltar', u'Greece', u'Greenland', u'Grenada', u'Guam', u'Guatemala', u'Guernsey', u'Guinea', u'Guinea-Bissau', u'Guyana', u'Haiti', u'Honduras', u'Hong Kong', u'Hungary', u'Iceland', u'India', u'Indonesia', u'Iran', u'Iraq', u'Ireland', u'Isle of Man', u'Israel', u'Italy', u'Ivory Coast', u'Jamaica', u'Japan', u'Jersey', u'Jordan', u'Kazakhstan', u'Kenya', u'Kiribati', u'Kuwait', u'Kyrgyzstan', u'Laos', u'Latvia', u'Lebanon', u'Lesotho', u'Liberia', u'Libya', u'Liechtenstein', u'Lithuania', u'Luxembourg', u'Macau', u'Macedonia', u'Madagascar', u'Malawi', u'Malaysia', u'Maldives', u'Mali', u'Malta', u'Marshall Islands', u'Mauritania', u'Mauritius', u'Mayotte', u'Mexico', u'Moldova', u'Monaco', u'Mongolia', u'Montenegro', u'Montserrat', u'Morocco', u'Mozambique', u'Namibia', u'Nauru', u'Nepal', u'Netherlands', u'New Caledonia', u'New Zealand', u'Nicaragua', u'Niger', u'Nigeria', u'North Korea', u'Northern Mariana Islands', u'Norway', u'Oman', u'Pakistan', u'Palau', u'Panama', u'Papua New Guinea', u'Paraguay', u'Peru', u'Philippines', u'Poland', u'Portugal', u'Puerto Rico', u'Qatar', u'Romania', u'Russia', u'Rwanda', u'Saint Barth\u00e9lemy', u'Saint Helena, Ascension and Tristan da Cunha', u'Saint Kitts and Nevis', u'Saint Lucia', u'Saint Martin', u'Saint Pierre and Miquelon', u'Saint Vincent and the Grenadines', u'Samoa', u'San Marino', u'Saudi Arabia', u'Senegal', u'Serbia', u'Seychelles', u'Sierra Leone', u'Singapore', u'Sint Maarten', u'Slovakia', u'Slovenia', u'Solomon Islands', u'Somalia', u'South Africa', u'South Korea', u'Spain', u'Sri Lanka', u'Sudan', u'Suriname', u'Swaziland', u'Sweden', u'Switzerland', u'Syria', u'S\u00e3o Tom\u00e9 and Pr\u00edncipe', u'Taiwan', u'Tajikistan', u'Tanzania', u'Thailand', u'Timor-Leste', u'Togo', u'Tonga', u'Trinidad and Tobago', u'Tunisia', u'Turkey', u'Turkmenistan', u'Turks and Caicos Islands', u'Tuvalu', u'Uganda', u'Ukraine', u'United Arab Emirates', u'United Kingdom', u'United States', u'United States Virgin Islands', u'Uruguay', u'Uzbekistan', u'Vanuatu', u'Venezuela', u'Vietnam', u'Wallis and Futuna', u'West Bank', u'Western Sahara', u'Yemen', u'Zambia', u'Zimbabwe'], dtype=object)\n",
        "\n",
        "Austria\n",
        "1950    6935\n",
        "1955    6947\n",
        "1960    7047\n",
        "1965    7271\n",
        "1970    7467\n",
        "1975    7579\n",
        "1980    7549\n",
        "Name: Austria, dtype: int64"
       ]
      },
      {
       "output_type": "stream",
       "stream": "stdout",
       "text": [
        "\n"
       ]
      }
     ],
     "prompt_number": 21
    },
    {
     "cell_type": "markdown",
     "metadata": {},
     "source": [
      "## Plotting population of 4 countries"
     ]
    },
    {
     "cell_type": "code",
     "collapsed": false,
     "input": [
      "plotCountries = ['Austria', 'Germany', 'United States', 'France']\n",
      "    \n",
      "for country in plotCountries:\n",
      "    row = df.ix[country]\n",
      "    plt.plot(row.index, row, label=row.name ) \n",
      "    \n",
      "plt.ylim(ymin=0) # start y axis at 0\n",
      "\n",
      "plt.xticks(rotation=70)\n",
      "plt.legend(loc='best')\n",
      "plt.xlabel(\"Year\")\n",
      "plt.ylabel(\"# people (million)\")\n",
      "plt.title(\"Population of countries\")"
     ],
     "language": "python",
     "metadata": {},
     "outputs": [
      {
       "metadata": {},
       "output_type": "pyout",
       "prompt_number": 22,
       "text": [
        "<matplotlib.text.Text at 0x107a6e610>"
       ]
      },
      {
       "metadata": {},
       "output_type": "display_data",
       "png": "[encoded data removed]",
       "text": [
        "<matplotlib.figure.Figure at 0x107a6df10>"
       ]
      }
     ],
     "prompt_number": 22
    },
    {
     "cell_type": "markdown",
     "metadata": {},
     "source": [
      "## Plot 5 most populous countries from 2010 and 2060"
     ]
    },
    {
     "cell_type": "code",
     "collapsed": false,
     "input": [
      "def plot_populous(df, year):\n",
      "    # sort table depending on data value in year column\n",
      "    df_by_year = df.sort(year, ascending=False)\n",
      "    \n",
      "    plt.figure()\n",
      "    for i in range(5):  \n",
      "        row = df_by_year.ix[i]\n",
      "        plt.plot(row.index, row, label=row.name ) \n",
      "            \n",
      "    plt.ylim(ymin=0)\n",
      "    \n",
      "    plt.xticks(rotation=70)\n",
      "    plt.legend(loc='best')\n",
      "    plt.xlabel(\"Year\")\n",
      "    plt.ylabel(\"# people (million)\")\n",
      "    plt.title(\"Most populous countries in %d\" % year)\n",
      "\n",
      "plot_populous(df, 2010)\n",
      "plot_populous(df, 2050)"
     ],
     "language": "python",
     "metadata": {},
     "outputs": [
      {
       "ename": "KeyError",
       "evalue": "u'no item named 2010'",
       "output_type": "pyerr",
       "traceback": [
        "\u001b[0;31m---------------------------------------------------------------------------\u001b[0m\n\u001b[0;31mKeyError\u001b[0m                                  Traceback (most recent call last)",
        "\u001b[0;32m<ipython-input-23-3d84f5b7c3ce>\u001b[0m in \u001b[0;36m<module>\u001b[0;34m()\u001b[0m\n\u001b[1;32m     16\u001b[0m     \u001b[0mplt\u001b[0m\u001b[0;34m.\u001b[0m\u001b[0mtitle\u001b[0m\u001b[0;34m(\u001b[0m\u001b[0;34m\"Most populous countries in %d\"\u001b[0m \u001b[0;34m%\u001b[0m \u001b[0myear\u001b[0m\u001b[0;34m)\u001b[0m\u001b[0;34m\u001b[0m\u001b[0m\n\u001b[1;32m     17\u001b[0m \u001b[0;34m\u001b[0m\u001b[0m\n\u001b[0;32m---> 18\u001b[0;31m \u001b[0mplot_populous\u001b[0m\u001b[0;34m(\u001b[0m\u001b[0mdf\u001b[0m\u001b[0;34m,\u001b[0m \u001b[0;36m2010\u001b[0m\u001b[0;34m)\u001b[0m\u001b[0;34m\u001b[0m\u001b[0m\n\u001b[0m\u001b[1;32m     19\u001b[0m \u001b[0mplot_populous\u001b[0m\u001b[0;34m(\u001b[0m\u001b[0mdf\u001b[0m\u001b[0;34m,\u001b[0m \u001b[0;36m2050\u001b[0m\u001b[0;34m)\u001b[0m\u001b[0;34m\u001b[0m\u001b[0m\n",
        "\u001b[0;32m<ipython-input-23-3d84f5b7c3ce>\u001b[0m in \u001b[0;36mplot_populous\u001b[0;34m(df, year)\u001b[0m\n\u001b[1;32m      1\u001b[0m \u001b[0;32mdef\u001b[0m \u001b[0mplot_populous\u001b[0m\u001b[0;34m(\u001b[0m\u001b[0mdf\u001b[0m\u001b[0;34m,\u001b[0m \u001b[0myear\u001b[0m\u001b[0;34m)\u001b[0m\u001b[0;34m:\u001b[0m\u001b[0;34m\u001b[0m\u001b[0m\n\u001b[1;32m      2\u001b[0m     \u001b[0;31m# sort table depending on data value in year column\u001b[0m\u001b[0;34m\u001b[0m\u001b[0;34m\u001b[0m\u001b[0m\n\u001b[0;32m----> 3\u001b[0;31m     \u001b[0mdf_by_year\u001b[0m \u001b[0;34m=\u001b[0m \u001b[0mdf\u001b[0m\u001b[0;34m.\u001b[0m\u001b[0msort\u001b[0m\u001b[0;34m(\u001b[0m\u001b[0myear\u001b[0m\u001b[0;34m,\u001b[0m \u001b[0mascending\u001b[0m\u001b[0;34m=\u001b[0m\u001b[0mFalse\u001b[0m\u001b[0;34m)\u001b[0m\u001b[0;34m\u001b[0m\u001b[0m\n\u001b[0m\u001b[1;32m      4\u001b[0m \u001b[0;34m\u001b[0m\u001b[0m\n\u001b[1;32m      5\u001b[0m     \u001b[0mplt\u001b[0m\u001b[0;34m.\u001b[0m\u001b[0mfigure\u001b[0m\u001b[0;34m(\u001b[0m\u001b[0;34m)\u001b[0m\u001b[0;34m\u001b[0m\u001b[0m\n",
        "\u001b[0;32m/usr/local/lib/python2.7/site-packages/pandas/core/frame.pyc\u001b[0m in \u001b[0;36msort\u001b[0;34m(self, columns, column, axis, ascending, inplace)\u001b[0m\n\u001b[1;32m   3203\u001b[0m             \u001b[0mcolumns\u001b[0m \u001b[0;34m=\u001b[0m \u001b[0mcolumn\u001b[0m\u001b[0;34m\u001b[0m\u001b[0m\n\u001b[1;32m   3204\u001b[0m         return self.sort_index(by=columns, axis=axis, ascending=ascending,\n\u001b[0;32m-> 3205\u001b[0;31m                                inplace=inplace)\n\u001b[0m\u001b[1;32m   3206\u001b[0m \u001b[0;34m\u001b[0m\u001b[0m\n\u001b[1;32m   3207\u001b[0m     def sort_index(self, axis=0, by=None, ascending=True, inplace=False,\n",
        "\u001b[0;32m/usr/local/lib/python2.7/site-packages/pandas/core/frame.pyc\u001b[0m in \u001b[0;36msort_index\u001b[0;34m(self, axis, by, ascending, inplace, kind)\u001b[0m\n\u001b[1;32m   3265\u001b[0m             \u001b[0;32melse\u001b[0m\u001b[0;34m:\u001b[0m\u001b[0;34m\u001b[0m\u001b[0m\n\u001b[1;32m   3266\u001b[0m                 \u001b[0mby\u001b[0m \u001b[0;34m=\u001b[0m \u001b[0mby\u001b[0m\u001b[0;34m[\u001b[0m\u001b[0;36m0\u001b[0m\u001b[0;34m]\u001b[0m\u001b[0;34m\u001b[0m\u001b[0m\n\u001b[0;32m-> 3267\u001b[0;31m                 \u001b[0mk\u001b[0m \u001b[0;34m=\u001b[0m \u001b[0mself\u001b[0m\u001b[0;34m[\u001b[0m\u001b[0mby\u001b[0m\u001b[0;34m]\u001b[0m\u001b[0;34m.\u001b[0m\u001b[0mvalues\u001b[0m\u001b[0;34m\u001b[0m\u001b[0m\n\u001b[0m\u001b[1;32m   3268\u001b[0m                 \u001b[0;32mif\u001b[0m \u001b[0mk\u001b[0m\u001b[0;34m.\u001b[0m\u001b[0mndim\u001b[0m \u001b[0;34m==\u001b[0m \u001b[0;36m2\u001b[0m\u001b[0;34m:\u001b[0m\u001b[0;34m\u001b[0m\u001b[0m\n\u001b[1;32m   3269\u001b[0m                     raise ValueError('Cannot sort by duplicate column %s'\n",
        "\u001b[0;32m/usr/local/lib/python2.7/site-packages/pandas/core/frame.pyc\u001b[0m in \u001b[0;36m__getitem__\u001b[0;34m(self, key)\u001b[0m\n\u001b[1;32m   2001\u001b[0m             \u001b[0;31m# get column\u001b[0m\u001b[0;34m\u001b[0m\u001b[0;34m\u001b[0m\u001b[0m\n\u001b[1;32m   2002\u001b[0m             \u001b[0;32mif\u001b[0m \u001b[0mself\u001b[0m\u001b[0;34m.\u001b[0m\u001b[0mcolumns\u001b[0m\u001b[0;34m.\u001b[0m\u001b[0mis_unique\u001b[0m\u001b[0;34m:\u001b[0m\u001b[0;34m\u001b[0m\u001b[0m\n\u001b[0;32m-> 2003\u001b[0;31m                 \u001b[0;32mreturn\u001b[0m \u001b[0mself\u001b[0m\u001b[0;34m.\u001b[0m\u001b[0m_get_item_cache\u001b[0m\u001b[0;34m(\u001b[0m\u001b[0mkey\u001b[0m\u001b[0;34m)\u001b[0m\u001b[0;34m\u001b[0m\u001b[0m\n\u001b[0m\u001b[1;32m   2004\u001b[0m \u001b[0;34m\u001b[0m\u001b[0m\n\u001b[1;32m   2005\u001b[0m             \u001b[0;31m# duplicate columns\u001b[0m\u001b[0;34m\u001b[0m\u001b[0;34m\u001b[0m\u001b[0m\n",
        "\u001b[0;32m/usr/local/lib/python2.7/site-packages/pandas/core/generic.pyc\u001b[0m in \u001b[0;36m_get_item_cache\u001b[0;34m(self, item)\u001b[0m\n\u001b[1;32m    665\u001b[0m             \u001b[0;32mreturn\u001b[0m \u001b[0mcache\u001b[0m\u001b[0;34m[\u001b[0m\u001b[0mitem\u001b[0m\u001b[0;34m]\u001b[0m\u001b[0;34m\u001b[0m\u001b[0m\n\u001b[1;32m    666\u001b[0m         \u001b[0;32mexcept\u001b[0m \u001b[0mException\u001b[0m\u001b[0;34m:\u001b[0m\u001b[0;34m\u001b[0m\u001b[0m\n\u001b[0;32m--> 667\u001b[0;31m             \u001b[0mvalues\u001b[0m \u001b[0;34m=\u001b[0m \u001b[0mself\u001b[0m\u001b[0;34m.\u001b[0m\u001b[0m_data\u001b[0m\u001b[0;34m.\u001b[0m\u001b[0mget\u001b[0m\u001b[0;34m(\u001b[0m\u001b[0mitem\u001b[0m\u001b[0;34m)\u001b[0m\u001b[0;34m\u001b[0m\u001b[0m\n\u001b[0m\u001b[1;32m    668\u001b[0m             \u001b[0mres\u001b[0m \u001b[0;34m=\u001b[0m \u001b[0mself\u001b[0m\u001b[0;34m.\u001b[0m\u001b[0m_box_item_values\u001b[0m\u001b[0;34m(\u001b[0m\u001b[0mitem\u001b[0m\u001b[0;34m,\u001b[0m \u001b[0mvalues\u001b[0m\u001b[0;34m)\u001b[0m\u001b[0;34m\u001b[0m\u001b[0m\n\u001b[1;32m    669\u001b[0m             \u001b[0mcache\u001b[0m\u001b[0;34m[\u001b[0m\u001b[0mitem\u001b[0m\u001b[0;34m]\u001b[0m \u001b[0;34m=\u001b[0m \u001b[0mres\u001b[0m\u001b[0;34m\u001b[0m\u001b[0m\n",
        "\u001b[0;32m/usr/local/lib/python2.7/site-packages/pandas/core/internals.pyc\u001b[0m in \u001b[0;36mget\u001b[0;34m(self, item)\u001b[0m\n\u001b[1;32m   1653\u001b[0m     \u001b[0;32mdef\u001b[0m \u001b[0mget\u001b[0m\u001b[0;34m(\u001b[0m\u001b[0mself\u001b[0m\u001b[0;34m,\u001b[0m \u001b[0mitem\u001b[0m\u001b[0;34m)\u001b[0m\u001b[0;34m:\u001b[0m\u001b[0;34m\u001b[0m\u001b[0m\n\u001b[1;32m   1654\u001b[0m         \u001b[0;32mif\u001b[0m \u001b[0mself\u001b[0m\u001b[0;34m.\u001b[0m\u001b[0mitems\u001b[0m\u001b[0;34m.\u001b[0m\u001b[0mis_unique\u001b[0m\u001b[0;34m:\u001b[0m\u001b[0;34m\u001b[0m\u001b[0m\n\u001b[0;32m-> 1655\u001b[0;31m             \u001b[0m_\u001b[0m\u001b[0;34m,\u001b[0m \u001b[0mblock\u001b[0m \u001b[0;34m=\u001b[0m \u001b[0mself\u001b[0m\u001b[0;34m.\u001b[0m\u001b[0m_find_block\u001b[0m\u001b[0;34m(\u001b[0m\u001b[0mitem\u001b[0m\u001b[0;34m)\u001b[0m\u001b[0;34m\u001b[0m\u001b[0m\n\u001b[0m\u001b[1;32m   1656\u001b[0m             \u001b[0;32mreturn\u001b[0m \u001b[0mblock\u001b[0m\u001b[0;34m.\u001b[0m\u001b[0mget\u001b[0m\u001b[0;34m(\u001b[0m\u001b[0mitem\u001b[0m\u001b[0;34m)\u001b[0m\u001b[0;34m\u001b[0m\u001b[0m\n\u001b[1;32m   1657\u001b[0m         \u001b[0;32melse\u001b[0m\u001b[0;34m:\u001b[0m\u001b[0;34m\u001b[0m\u001b[0m\n",
        "\u001b[0;32m/usr/local/lib/python2.7/site-packages/pandas/core/internals.pyc\u001b[0m in \u001b[0;36m_find_block\u001b[0;34m(self, item)\u001b[0m\n\u001b[1;32m   1933\u001b[0m \u001b[0;34m\u001b[0m\u001b[0m\n\u001b[1;32m   1934\u001b[0m     \u001b[0;32mdef\u001b[0m \u001b[0m_find_block\u001b[0m\u001b[0;34m(\u001b[0m\u001b[0mself\u001b[0m\u001b[0;34m,\u001b[0m \u001b[0mitem\u001b[0m\u001b[0;34m)\u001b[0m\u001b[0;34m:\u001b[0m\u001b[0;34m\u001b[0m\u001b[0m\n\u001b[0;32m-> 1935\u001b[0;31m         \u001b[0mself\u001b[0m\u001b[0;34m.\u001b[0m\u001b[0m_check_have\u001b[0m\u001b[0;34m(\u001b[0m\u001b[0mitem\u001b[0m\u001b[0;34m)\u001b[0m\u001b[0;34m\u001b[0m\u001b[0m\n\u001b[0m\u001b[1;32m   1936\u001b[0m         \u001b[0;32mfor\u001b[0m \u001b[0mi\u001b[0m\u001b[0;34m,\u001b[0m \u001b[0mblock\u001b[0m \u001b[0;32min\u001b[0m \u001b[0menumerate\u001b[0m\u001b[0;34m(\u001b[0m\u001b[0mself\u001b[0m\u001b[0;34m.\u001b[0m\u001b[0mblocks\u001b[0m\u001b[0;34m)\u001b[0m\u001b[0;34m:\u001b[0m\u001b[0;34m\u001b[0m\u001b[0m\n\u001b[1;32m   1937\u001b[0m             \u001b[0;32mif\u001b[0m \u001b[0mitem\u001b[0m \u001b[0;32min\u001b[0m \u001b[0mblock\u001b[0m\u001b[0;34m:\u001b[0m\u001b[0;34m\u001b[0m\u001b[0m\n",
        "\u001b[0;32m/usr/local/lib/python2.7/site-packages/pandas/core/internals.pyc\u001b[0m in \u001b[0;36m_check_have\u001b[0;34m(self, item)\u001b[0m\n\u001b[1;32m   1940\u001b[0m     \u001b[0;32mdef\u001b[0m \u001b[0m_check_have\u001b[0m\u001b[0;34m(\u001b[0m\u001b[0mself\u001b[0m\u001b[0;34m,\u001b[0m \u001b[0mitem\u001b[0m\u001b[0;34m)\u001b[0m\u001b[0;34m:\u001b[0m\u001b[0;34m\u001b[0m\u001b[0m\n\u001b[1;32m   1941\u001b[0m         \u001b[0;32mif\u001b[0m \u001b[0mitem\u001b[0m \u001b[0;32mnot\u001b[0m \u001b[0;32min\u001b[0m \u001b[0mself\u001b[0m\u001b[0;34m.\u001b[0m\u001b[0mitems\u001b[0m\u001b[0;34m:\u001b[0m\u001b[0;34m\u001b[0m\u001b[0m\n\u001b[0;32m-> 1942\u001b[0;31m             \u001b[0;32mraise\u001b[0m \u001b[0mKeyError\u001b[0m\u001b[0;34m(\u001b[0m\u001b[0;34m'no item named %s'\u001b[0m \u001b[0;34m%\u001b[0m \u001b[0mcom\u001b[0m\u001b[0;34m.\u001b[0m\u001b[0mpprint_thing\u001b[0m\u001b[0;34m(\u001b[0m\u001b[0mitem\u001b[0m\u001b[0;34m)\u001b[0m\u001b[0;34m)\u001b[0m\u001b[0;34m\u001b[0m\u001b[0m\n\u001b[0m\u001b[1;32m   1943\u001b[0m \u001b[0;34m\u001b[0m\u001b[0m\n\u001b[1;32m   1944\u001b[0m     \u001b[0;32mdef\u001b[0m \u001b[0mreindex_axis\u001b[0m\u001b[0;34m(\u001b[0m\u001b[0mself\u001b[0m\u001b[0;34m,\u001b[0m \u001b[0mnew_axis\u001b[0m\u001b[0;34m,\u001b[0m \u001b[0mmethod\u001b[0m\u001b[0;34m=\u001b[0m\u001b[0mNone\u001b[0m\u001b[0;34m,\u001b[0m \u001b[0maxis\u001b[0m\u001b[0;34m=\u001b[0m\u001b[0;36m0\u001b[0m\u001b[0;34m,\u001b[0m \u001b[0mcopy\u001b[0m\u001b[0;34m=\u001b[0m\u001b[0mTrue\u001b[0m\u001b[0;34m)\u001b[0m\u001b[0;34m:\u001b[0m\u001b[0;34m\u001b[0m\u001b[0m\n",
        "\u001b[0;31mKeyError\u001b[0m: u'no item named 2010'"
       ]
      }
     ],
     "prompt_number": 23
    },
    {
     "cell_type": "code",
     "collapsed": false,
     "input": [
      "%debug"
     ],
     "language": "python",
     "metadata": {},
     "outputs": [
      {
       "output_type": "stream",
       "stream": "stdout",
       "text": [
        "> \u001b[0;32m/usr/local/lib/python2.7/site-packages/pandas/core/internals.py\u001b[0m(1942)\u001b[0;36m_check_have\u001b[0;34m()\u001b[0m\n",
        "\u001b[0;32m   1941 \u001b[0;31m        \u001b[0;32mif\u001b[0m \u001b[0mitem\u001b[0m \u001b[0;32mnot\u001b[0m \u001b[0;32min\u001b[0m \u001b[0mself\u001b[0m\u001b[0;34m.\u001b[0m\u001b[0mitems\u001b[0m\u001b[0;34m:\u001b[0m\u001b[0;34m\u001b[0m\u001b[0m\n",
        "\u001b[0m\u001b[0;32m-> 1942 \u001b[0;31m            \u001b[0;32mraise\u001b[0m \u001b[0mKeyError\u001b[0m\u001b[0;34m(\u001b[0m\u001b[0;34m'no item named %s'\u001b[0m \u001b[0;34m%\u001b[0m \u001b[0mcom\u001b[0m\u001b[0;34m.\u001b[0m\u001b[0mpprint_thing\u001b[0m\u001b[0;34m(\u001b[0m\u001b[0mitem\u001b[0m\u001b[0;34m)\u001b[0m\u001b[0;34m)\u001b[0m\u001b[0;34m\u001b[0m\u001b[0m\n",
        "\u001b[0m\u001b[0;32m   1943 \u001b[0;31m\u001b[0;34m\u001b[0m\u001b[0m\n",
        "\u001b[0m\n"
       ]
      }
     ]
    },
    {
     "cell_type": "code",
     "collapsed": false,
     "input": [],
     "language": "python",
     "metadata": {},
     "outputs": [],
     "prompt_number": 23
    },
    {
     "cell_type": "code",
     "collapsed": false,
     "input": [],
     "language": "python",
     "metadata": {},
     "outputs": []
    }
   ],
   "metadata": {}
  }
 ]
}