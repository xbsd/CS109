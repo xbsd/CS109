{
 "metadata": {
  "name": "",
  "signature": "sha256:4578d051df1252a03c468f67f817be591224e13911d532be6e5183f468cabf78"
 },
 "nbformat": 3,
 "nbformat_minor": 0,
 "worksheets": [
  {
   "cells": [
    {
     "cell_type": "code",
     "collapsed": false,
     "input": [
      "import numpy as np\n",
      "import pandas as pd"
     ],
     "language": "python",
     "metadata": {},
     "outputs": [],
     "prompt_number": 1
    },
    {
     "cell_type": "code",
     "collapsed": false,
     "input": [
      "z1 = np.array([1,2,3])\n",
      "z2 = np.array([1,0,1])\n",
      "np.sum(z1*z2)\n",
      "\n",
      "z = np.arange(5)\n",
      "z\n",
      "np.random.shuffle(z)\n",
      "z\n",
      "\n",
      "d = {'one' : [1., 2., 3., 4.],'two' : [4., 3., 2., 1.]}\n",
      "d = pd.DataFrame(d)\n",
      "print d\n",
      "dx =  (d.one * d.two)\n",
      "print \"--\"\n",
      "print type(dx)\n",
      "print dx.sum()\n",
      "\n",
      "np.random.shuffle(d.one)\n",
      "print d\n",
      "print np.array(d.one > 2)\n",
      "l = ([1,2,3,4])\n",
      "np.array(d.one > 2) * l\n"
     ],
     "language": "python",
     "metadata": {},
     "outputs": [
      {
       "output_type": "stream",
       "stream": "stdout",
       "text": [
        "   one  two\n",
        "0    1    4\n",
        "1    2    3\n",
        "2    3    2\n",
        "3    4    1\n",
        "--\n",
        "<class 'pandas.core.series.Series'>\n",
        "20.0\n",
        "   one  two\n",
        "0    2    4\n",
        "1    4    3\n",
        "2    3    2\n",
        "3    1    1\n",
        "[False  True  True False]\n"
       ]
      },
      {
       "metadata": {},
       "output_type": "pyout",
       "prompt_number": 32,
       "text": [
        "array([0, 2, 3, 0])"
       ]
      }
     ],
     "prompt_number": 32
    }
   ],
   "metadata": {}
  }
 ]
}